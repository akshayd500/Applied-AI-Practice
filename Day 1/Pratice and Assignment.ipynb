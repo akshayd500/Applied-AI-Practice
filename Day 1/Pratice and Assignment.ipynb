{
 "cells": [
  {
   "cell_type": "markdown",
   "metadata": {
    "colab_type": "text",
    "id": "cEb0Lee8ezYL"
   },
   "source": [
    "## Objective: Learning to solve basic Python problems\n",
    "\n",
    "Prerequisites: Module 1 listed @ https://www.appliedaicourse.com/course/11/Applied-Machine-learning-course - SQL\n",
    "\n",
    "Tackle few simple problems relvant to AI/ML\n",
    "    - Break a problem into smaller sub-problems.\n",
    "    - Connecting the dots from sub-problems to coding-concepts.\n",
    "    - Code-walkthrough + Putting it all together.\n",
    "    - More focus on common errors and mistakes + reading function reference + fixing bugs\n",
    "    - Exercise-problems for practice.\n",
    "    - Introduce new concepts as we need.\n",
    "    - Good programmers may not benifit much from this session.\n",
    "    "
   ]
  },
  {
   "cell_type": "markdown",
   "metadata": {
    "colab_type": "text",
    "id": "Ob9xHsaYezYN"
   },
   "source": [
    "### Problem 1: Add two randomly generated NumPy matrices using loops \n",
    "    - Sub-problems\n",
    "    - Subproblems ---> coding concepts\n",
    "    - Code-walkthrough + Mistakes\n",
    "    - Exercise: Add two randomly generated NumPy 3D-matrices(tensor) using loops "
   ]
  },
  {
   "cell_type": "code",
   "execution_count": null,
   "metadata": {},
   "outputs": [],
   "source": []
  },
  {
   "cell_type": "code",
   "execution_count": 1,
   "metadata": {},
   "outputs": [],
   "source": [
    "import numpy as np"
   ]
  },
  {
   "cell_type": "code",
   "execution_count": 26,
   "metadata": {},
   "outputs": [
    {
     "name": "stdout",
     "output_type": "stream",
     "text": [
      "(5, 4) [[17 13 25 12]\n",
      " [ 6  4  2 18]\n",
      " [21  3 20  7]\n",
      " [14  6 21 24]\n",
      " [14 24 14 20]]\n"
     ]
    }
   ],
   "source": [
    "a = np.random.randint(2,30,(5,4)) # (low, high, size) \n",
    "print(a.shape,a)"
   ]
  },
  {
   "cell_type": "code",
   "execution_count": null,
   "metadata": {},
   "outputs": [],
   "source": []
  },
  {
   "cell_type": "code",
   "execution_count": 10,
   "metadata": {
    "colab": {},
    "colab_type": "code",
    "id": "hCSGyaZVezYQ",
    "outputId": "73bbf7b8-ad76-45b6-b74d-6e8fe7acf4e3"
   },
   "outputs": [
    {
     "name": "stdout",
     "output_type": "stream",
     "text": [
      "[[0.64546128 0.8718109  0.18202639 0.56190672]\n",
      " [0.03266979 0.85249758 0.01147952 0.37241042]\n",
      " [0.22954054 0.6392529  0.70471956 0.21240528]\n",
      " [0.70648775 0.55751517 0.31079812 0.52128958]\n",
      " [0.75316191 0.83577774 0.75551244 0.71560597]]\n",
      "(5, 4)\n"
     ]
    }
   ],
   "source": [
    "# create random matrix A1 of size 5X4.\n",
    "### Google \" numpy create random matrices \" & Read through the top 4-5 links\n",
    "### https://www.codespeedy.com/how-to-create-matrix-of-random-numbers-in-python-numpy/\n",
    "\n",
    "import numpy as np\n",
    "A1 = np.random.rand(5,4) # read documentation to understand the params. Google \"np.random.rand reference\" ---> https://docs.scipy.org/doc/numpy-1.15.1/reference/generated/numpy.random.rand.html\n",
    "\n",
    "##COMMON-ERROR: np.random.rand(4,5)\n",
    "##COMMON_ERROR: \n",
    "\n",
    "print(A1) # always print to ensure that everyhitng works fine.\n",
    "\n",
    "print(A1.shape)\n"
   ]
  },
  {
   "cell_type": "code",
   "execution_count": 11,
   "metadata": {
    "colab": {},
    "colab_type": "code",
    "id": "QNEOxBKcezY7",
    "outputId": "23e40fec-f237-4a4d-ab9c-0b6954d5e5d9"
   },
   "outputs": [
    {
     "ename": "TypeError",
     "evalue": "'tuple' object is not callable",
     "output_type": "error",
     "traceback": [
      "\u001b[1;31m---------------------------------------------------------------------------\u001b[0m",
      "\u001b[1;31mTypeError\u001b[0m                                 Traceback (most recent call last)",
      "\u001b[1;32m<ipython-input-11-7ac64a307e9c>\u001b[0m in \u001b[0;36m<module>\u001b[1;34m\u001b[0m\n\u001b[1;32m----> 1\u001b[1;33m \u001b[0mprint\u001b[0m\u001b[1;33m(\u001b[0m\u001b[0mA1\u001b[0m\u001b[1;33m.\u001b[0m\u001b[0mshape\u001b[0m\u001b[1;33m(\u001b[0m\u001b[1;33m)\u001b[0m\u001b[1;33m)\u001b[0m\u001b[1;33m;\u001b[0m \u001b[1;31m#COMMON-ERROR\u001b[0m\u001b[1;33m\u001b[0m\u001b[1;33m\u001b[0m\u001b[0m\n\u001b[0m",
      "\u001b[1;31mTypeError\u001b[0m: 'tuple' object is not callable"
     ]
    }
   ],
   "source": [
    "print(A1.shape()); #COMMON-ERROR"
   ]
  },
  {
   "cell_type": "code",
   "execution_count": 12,
   "metadata": {
    "colab": {},
    "colab_type": "code",
    "id": "ylczOO1HezZO",
    "outputId": "6e382e5c-4a3d-49dd-9d02-d60c6a6059b9"
   },
   "outputs": [
    {
     "ename": "AttributeError",
     "evalue": "'numpy.ndarray' object has no attribute 'type'",
     "output_type": "error",
     "traceback": [
      "\u001b[1;31m---------------------------------------------------------------------------\u001b[0m",
      "\u001b[1;31mAttributeError\u001b[0m                            Traceback (most recent call last)",
      "\u001b[1;32m<ipython-input-12-8e864547c389>\u001b[0m in \u001b[0;36m<module>\u001b[1;34m\u001b[0m\n\u001b[1;32m----> 1\u001b[1;33m \u001b[0mprint\u001b[0m\u001b[1;33m(\u001b[0m\u001b[0mA1\u001b[0m\u001b[1;33m.\u001b[0m\u001b[0mtype\u001b[0m\u001b[1;33m)\u001b[0m\u001b[1;33m;\u001b[0m \u001b[1;31m# COMMON-ERROR\u001b[0m\u001b[1;33m\u001b[0m\u001b[1;33m\u001b[0m\u001b[0m\n\u001b[0m",
      "\u001b[1;31mAttributeError\u001b[0m: 'numpy.ndarray' object has no attribute 'type'"
     ]
    }
   ],
   "source": [
    "print(A1.type); # COMMON-ERROR"
   ]
  },
  {
   "cell_type": "code",
   "execution_count": 13,
   "metadata": {
    "colab": {},
    "colab_type": "code",
    "id": "AQZCd8TOezZc",
    "outputId": "c47171f0-bf14-4333-f400-aa911edcb549"
   },
   "outputs": [
    {
     "name": "stdout",
     "output_type": "stream",
     "text": [
      "<class 'numpy.ndarray'>\n"
     ]
    }
   ],
   "source": [
    "print(type(A1));"
   ]
  },
  {
   "cell_type": "code",
   "execution_count": 0,
   "metadata": {
    "colab": {},
    "colab_type": "code",
    "id": "ZTqjkcBXezZp"
   },
   "outputs": [],
   "source": [
    "# Read through the attributes and methods in numpy.ndarray class\n",
    "## Google \"numpy.ndarray\" ---> https://docs.scipy.org/doc/numpy/reference/generated/numpy.ndarray.html\n",
    "\n",
    "## Pre-Google programmers: Read reference docs."
   ]
  },
  {
   "cell_type": "code",
   "execution_count": 17,
   "metadata": {
    "colab": {},
    "colab_type": "code",
    "id": "ryXyp-5GezZx",
    "outputId": "bfc0d4d1-5d3e-48fe-bdc1-cd668f821a12"
   },
   "outputs": [
    {
     "name": "stdout",
     "output_type": "stream",
     "text": [
      "[[22 15 56 25]\n",
      " [27 57 44 23]\n",
      " [29 42 43 14]\n",
      " [34 33 10 54]\n",
      " [28 50 40  2]]\n",
      "[[0.49769703 0.9970804  0.08016644 0.27135422]\n",
      " [0.34564452 0.64565172 0.37097523 0.1958945 ]\n",
      " [0.64524728 0.64846896 0.1595673  0.45980501]\n",
      " [0.43060372 0.75071715 0.52137207 0.40003999]\n",
      " [0.74184762 0.56550501 0.51784053 0.39543841]]\n"
     ]
    }
   ],
   "source": [
    "# Create random Matrix A2\n",
    "A2 = np.random.rand(5,4);\n",
    "b = np.random.randint(low=2,high=60,size=(5,4))\n",
    "print(b)\n",
    "print(A2);"
   ]
  },
  {
   "cell_type": "code",
   "execution_count": 15,
   "metadata": {
    "colab": {},
    "colab_type": "code",
    "id": "3wFrw-HCezZ7",
    "outputId": "ea260b87-11f2-4bbe-c97d-3ea4417e4d6b"
   },
   "outputs": [
    {
     "name": "stdout",
     "output_type": "stream",
     "text": [
      "0.21240527792418584\n"
     ]
    }
   ],
   "source": [
    "# Add element wise using loops A1+A2 = B\n",
    "\n",
    "## Google \"Accessing i,j th element in an ndarray\" ---> https://docs.scipy.org/doc/numpy/reference/arrays.ndarray.html\n",
    "print(A1[2,3]);\n"
   ]
  },
  {
   "cell_type": "code",
   "execution_count": 18,
   "metadata": {
    "colab": {},
    "colab_type": "code",
    "id": "4V9J3uLmezaQ",
    "outputId": "5aeadcd6-8371-4bfb-be64-eaaaee3cc5a8"
   },
   "outputs": [
    {
     "ename": "TypeError",
     "evalue": "'numpy.ndarray' object is not callable",
     "output_type": "error",
     "traceback": [
      "\u001b[1;31m---------------------------------------------------------------------------\u001b[0m",
      "\u001b[1;31mTypeError\u001b[0m                                 Traceback (most recent call last)",
      "\u001b[1;32m<ipython-input-18-fd4987ece1a1>\u001b[0m in \u001b[0;36m<module>\u001b[1;34m\u001b[0m\n\u001b[1;32m----> 1\u001b[1;33m \u001b[0mprint\u001b[0m\u001b[1;33m(\u001b[0m\u001b[0mA1\u001b[0m\u001b[1;33m(\u001b[0m\u001b[1;36m2\u001b[0m\u001b[1;33m,\u001b[0m\u001b[1;36m3\u001b[0m\u001b[1;33m)\u001b[0m\u001b[1;33m)\u001b[0m\u001b[1;33m;\u001b[0m \u001b[1;31m#COMMON_ERROR\u001b[0m\u001b[1;33m\u001b[0m\u001b[1;33m\u001b[0m\u001b[0m\n\u001b[0m",
      "\u001b[1;31mTypeError\u001b[0m: 'numpy.ndarray' object is not callable"
     ]
    }
   ],
   "source": [
    "print(A1(2,3)); #COMMON_ERROR"
   ]
  },
  {
   "cell_type": "code",
   "execution_count": 19,
   "metadata": {},
   "outputs": [
    {
     "name": "stdout",
     "output_type": "stream",
     "text": [
      "29\n"
     ]
    }
   ],
   "source": [
    "print(a[(2,3)])"
   ]
  },
  {
   "cell_type": "code",
   "execution_count": 0,
   "metadata": {
    "colab": {},
    "colab_type": "code",
    "id": "rhxownQGezab",
    "outputId": "2fddb9c3-e7d3-4038-9699-ae31c0855dee"
   },
   "outputs": [
    {
     "name": "stdout",
     "output_type": "stream",
     "text": [
      "[[1.23485298 1.03929117 1.4531507  0.63221396]\n",
      " [1.29876635 0.51588998 0.75634747 0.97533932]\n",
      " [1.86193091 0.75818597 1.35644263 0.75813984]\n",
      " [0.99238733 1.35895577 0.87935241 1.48757843]\n",
      " [1.10696065 0.45694659 0.69490656 0.52769753]]\n"
     ]
    }
   ],
   "source": [
    "B= A1+A2; # using + operator on ndarrays\n",
    "print(B); "
   ]
  },
  {
   "cell_type": "code",
   "execution_count": 27,
   "metadata": {},
   "outputs": [
    {
     "name": "stdout",
     "output_type": "stream",
     "text": [
      "[[17 13 25 12]\n",
      " [ 6  4  2 18]\n",
      " [21  3 20  7]\n",
      " [14  6 21 24]\n",
      " [14 24 14 20]] [[22 15 56 25]\n",
      " [27 57 44 23]\n",
      " [29 42 43 14]\n",
      " [34 33 10 54]\n",
      " [28 50 40  2]] [[39 28 81 37]\n",
      " [33 61 46 41]\n",
      " [50 45 63 21]\n",
      " [48 39 31 78]\n",
      " [42 74 54 22]]\n",
      "0\n",
      "1\n",
      "2\n",
      "3\n",
      "4\n"
     ]
    }
   ],
   "source": [
    "c = np.zeros((5,4))\n",
    "print()\n",
    "c = a+b\n",
    "print(a,b,c)\n",
    "for i in range(5):\n",
    "    print(i)\n",
    "    "
   ]
  },
  {
   "cell_type": "code",
   "execution_count": 28,
   "metadata": {
    "colab": {},
    "colab_type": "code",
    "id": "vA4qdmWyezam",
    "outputId": "2d3676d7-dad7-4e67-edc3-a6f9412b45d1"
   },
   "outputs": [
    {
     "name": "stdout",
     "output_type": "stream",
     "text": [
      "5 4\n"
     ]
    }
   ],
   "source": [
    "(r,c) = a.shape;\n",
    "print(r,c)"
   ]
  },
  {
   "cell_type": "code",
   "execution_count": 0,
   "metadata": {
    "colab": {},
    "colab_type": "code",
    "id": "cQZePTZneza8",
    "outputId": "f098efa1-6bf6-4387-cf65-5aafcbf4a311"
   },
   "outputs": [
    {
     "name": "stdout",
     "output_type": "stream",
     "text": [
      "[[1.23485298 1.03929117 1.4531507  0.63221396]\n",
      " [1.29876635 0.51588998 0.75634747 0.97533932]\n",
      " [1.86193091 0.75818597 1.35644263 0.75813984]\n",
      " [0.99238733 1.35895577 0.87935241 1.48757843]\n",
      " [1.10696065 0.45694659 0.69490656 0.52769753]]\n"
     ]
    }
   ],
   "source": [
    "#B[i,j] = A1[i,j] + A2 [i,j] \n",
    "\n",
    "for i in range(r):\n",
    "    for j in range(c):\n",
    "        B[i,j] = A1[i,j] + A2[i,j];\n",
    "        \n",
    "print(B)"
   ]
  },
  {
   "cell_type": "code",
   "execution_count": 33,
   "metadata": {},
   "outputs": [
    {
     "data": {
      "text/plain": [
       "array([[0, 0, 0, 0],\n",
       "       [0, 0, 0, 0],\n",
       "       [0, 0, 0, 0],\n",
       "       [0, 0, 0, 0],\n",
       "       [0, 0, 0, 0]])"
      ]
     },
     "execution_count": 33,
     "metadata": {},
     "output_type": "execute_result"
    }
   ],
   "source": [
    "c =np.zeros(shape=(5,4),dtype=int)\n",
    "c"
   ]
  },
  {
   "cell_type": "code",
   "execution_count": 35,
   "metadata": {},
   "outputs": [
    {
     "name": "stdout",
     "output_type": "stream",
     "text": [
      "[[39 28 81 37]\n",
      " [33 61 46 41]\n",
      " [50 45 63 21]\n",
      " [48 39 31 78]\n",
      " [42 74 54 22]]\n"
     ]
    }
   ],
   "source": [
    "row,col = a.shape\n",
    "for i in range(row):\n",
    "    for j in range(col):\n",
    "        c[i,j] = a[i,j] + b[i,j]\n",
    "print(c)"
   ]
  },
  {
   "cell_type": "code",
   "execution_count": null,
   "metadata": {},
   "outputs": [],
   "source": []
  },
  {
   "cell_type": "code",
   "execution_count": 0,
   "metadata": {
    "colab": {},
    "colab_type": "code",
    "id": "3g4uRnZjezbG",
    "outputId": "0cb72943-098c-4cc8-d21c-65530123078c"
   },
   "outputs": [
    {
     "ename": "TypeError",
     "evalue": "data type not understood",
     "output_type": "error",
     "traceback": [
      "\u001b[0;31m---------------------------------------------------------------------------\u001b[0m",
      "\u001b[0;31mTypeError\u001b[0m                                 Traceback (most recent call last)",
      "\u001b[0;32m<ipython-input-21-df097f1602bf>\u001b[0m in \u001b[0;36m<module>\u001b[0;34m()\u001b[0m\n\u001b[1;32m      1\u001b[0m \u001b[0;31m# OPTIMIZATION: Pre-allocate matrix B\u001b[0m\u001b[0;34m\u001b[0m\u001b[0;34m\u001b[0m\u001b[0m\n\u001b[0;32m----> 2\u001b[0;31m \u001b[0mB\u001b[0m \u001b[0;34m=\u001b[0m \u001b[0mnp\u001b[0m\u001b[0;34m.\u001b[0m\u001b[0mzeros\u001b[0m\u001b[0;34m(\u001b[0m\u001b[0;36m5\u001b[0m\u001b[0;34m,\u001b[0m\u001b[0;36m4\u001b[0m\u001b[0;34m)\u001b[0m\u001b[0;34m\u001b[0m\u001b[0m\n\u001b[0m",
      "\u001b[0;31mTypeError\u001b[0m: data type not understood"
     ]
    }
   ],
   "source": [
    "# OPTIMIZATION: Pre-allocate matrix B\n",
    "B = np.zeros(5,4); # COMMON-ERROR"
   ]
  },
  {
   "cell_type": "code",
   "execution_count": 37,
   "metadata": {
    "colab": {},
    "colab_type": "code",
    "id": "iPEbR5mDezbS",
    "outputId": "402e8f65-408c-450f-e468-4a22665b2611"
   },
   "outputs": [
    {
     "name": "stdout",
     "output_type": "stream",
     "text": [
      "[[1.1431583  1.8688913  0.26219283 0.83326094]\n",
      " [0.37831431 1.4981493  0.38245475 0.56830492]\n",
      " [0.87478782 1.28772186 0.86428686 0.67221029]\n",
      " [1.13709147 1.30823232 0.83217019 0.92132957]\n",
      " [1.49500953 1.40128275 1.27335297 1.11104438]]\n"
     ]
    }
   ],
   "source": [
    "#Google \"np.zeros\" ---> https://docs.scipy.org/doc/numpy/reference/generated/numpy.zeros.html\n",
    "B = np.zeros((5,4))\n",
    "\n",
    "for i in range(row): # same code as earlier\n",
    "    for j in range(col):\n",
    "        B[i,j] = A1[i,j] + A2[i,j];\n",
    "        \n",
    "print(B)"
   ]
  },
  {
   "cell_type": "code",
   "execution_count": 39,
   "metadata": {
    "colab": {},
    "colab_type": "code",
    "id": "lfvD7inWezbi"
   },
   "outputs": [],
   "source": [
    "# Time Complexity: ?         O(r*c) or O(n*2)\n",
    "# Space Complxiety: ?        O(1) Because A1,A2,B are input and output which does not include in space complexity\n",
    "#                            but we have i,j,row,col which will include in space complexity, therefore, complexity is constant\n",
    "    "
   ]
  },
  {
   "cell_type": "markdown",
   "metadata": {
    "colab_type": "text",
    "id": "KPjY8bAeezbu"
   },
   "source": [
    "#### Exercise: Add two randomly generated NumPy 3D-matrices(tensor) using loops \n",
    "\n",
    "HINT: B[i,j,k] = A1[i,j,k] + A2[i,j,k]\n",
    "****************************************************************************************************************\n",
    "****************************************************************************************************************\n",
    "****************************************************************************************************************"
   ]
  },
  {
   "cell_type": "code",
   "execution_count": 40,
   "metadata": {},
   "outputs": [],
   "source": [
    "A1 = np.random.randint(low=2, high=60,size=(3,3,3))\n",
    "A2 = np.random.randint(low=2, high=60,size=(3,3,3))\n",
    "B = np.zeros(shape=(3,3,3) , dtype = int)"
   ]
  },
  {
   "cell_type": "code",
   "execution_count": 47,
   "metadata": {},
   "outputs": [
    {
     "name": "stdout",
     "output_type": "stream",
     "text": [
      "[[[52 48 26]\n",
      "  [ 3 15 16]\n",
      "  [ 3  3 24]]\n",
      "\n",
      " [[18 42 55]\n",
      "  [50 51 46]\n",
      "  [44 22 23]]\n",
      "\n",
      " [[19 25 21]\n",
      "  [37 42 57]\n",
      "  [43 57 35]]]\n",
      "\n",
      "\n",
      "\n",
      "[[[ 3 20 43]\n",
      "  [13 21 40]\n",
      "  [12 18 16]]\n",
      "\n",
      " [[ 2 52  6]\n",
      "  [10 16  8]\n",
      "  [49  6 26]]\n",
      "\n",
      " [[36 39 20]\n",
      "  [33 49 39]\n",
      "  [51 58 47]]]\n",
      "\n",
      "\n",
      "\n",
      "[[[ 55  68  69]\n",
      "  [ 16  36  56]\n",
      "  [ 15  21  40]]\n",
      "\n",
      " [[ 20  94  61]\n",
      "  [ 60  67  54]\n",
      "  [ 93  28  49]]\n",
      "\n",
      " [[ 55  64  41]\n",
      "  [ 70  91  96]\n",
      "  [ 94 115  82]]]\n"
     ]
    }
   ],
   "source": [
    "r,c,h= A1.shape\n",
    "print(\"{}\\n\\n\\n\\n{}\\n\\n\\n\\n{}\".format(A1,A2,B))"
   ]
  },
  {
   "cell_type": "code",
   "execution_count": 43,
   "metadata": {},
   "outputs": [
    {
     "name": "stdout",
     "output_type": "stream",
     "text": [
      "[[[ 55  68  69]\n",
      "  [ 16  36  56]\n",
      "  [ 15  21  40]]\n",
      "\n",
      " [[ 20  94  61]\n",
      "  [ 60  67  54]\n",
      "  [ 93  28  49]]\n",
      "\n",
      " [[ 55  64  41]\n",
      "  [ 70  91  96]\n",
      "  [ 94 115  82]]]\n"
     ]
    }
   ],
   "source": [
    "for i in range(r):\n",
    "    for j in range(c):\n",
    "        for k in range(h):\n",
    "            B[i,j,k] = A1[i,j,k] + A2[i,j,k]\n",
    "print(B)"
   ]
  },
  {
   "cell_type": "code",
   "execution_count": null,
   "metadata": {},
   "outputs": [],
   "source": []
  },
  {
   "cell_type": "code",
   "execution_count": null,
   "metadata": {},
   "outputs": [],
   "source": []
  },
  {
   "cell_type": "markdown",
   "metadata": {
    "colab_type": "text",
    "id": "N4KaeZOAezbx"
   },
   "source": [
    "### Problem 2: Find if a given 2D-point is inside (or) outside a circle \n",
    "    - Subproblems.\n",
    "    - Subproblems --> coding concepts.\n",
    "    - putting it all together.\n",
    "    - Exercise: Find if a given 2D point is inside (or) outside a rectangle ? \n",
    "   "
   ]
  },
  {
   "cell_type": "code",
   "execution_count": 65,
   "metadata": {
    "colab": {},
    "colab_type": "code",
    "id": "wZNoI1lQezb5",
    "outputId": "b76aa6a0-66df-4a2c-fb8b-18830ac62770"
   },
   "outputs": [
    {
     "name": "stdout",
     "output_type": "stream",
     "text": [
      "Enter Cx, Cy, r:\n"
     ]
    },
    {
     "ename": "NameError",
     "evalue": "name 'raw_input' is not defined",
     "output_type": "error",
     "traceback": [
      "\u001b[1;31m---------------------------------------------------------------------------\u001b[0m",
      "\u001b[1;31mNameError\u001b[0m                                 Traceback (most recent call last)",
      "\u001b[1;32m<ipython-input-65-6c6013d3e930>\u001b[0m in \u001b[0;36m<module>\u001b[1;34m\u001b[0m\n\u001b[0;32m      4\u001b[0m \u001b[1;31m# Google \" input multiple values python 3\" ---> https://www.geeksforgeeks.org/input-multiple-values-user-one-line-python/\u001b[0m\u001b[1;33m\u001b[0m\u001b[1;33m\u001b[0m\u001b[1;33m\u001b[0m\u001b[0m\n\u001b[0;32m      5\u001b[0m \u001b[0mprint\u001b[0m\u001b[1;33m(\u001b[0m\u001b[1;34m\"Enter Cx, Cy, r:\"\u001b[0m\u001b[1;33m)\u001b[0m\u001b[1;33m;\u001b[0m\u001b[1;33m\u001b[0m\u001b[1;33m\u001b[0m\u001b[0m\n\u001b[1;32m----> 6\u001b[1;33m \u001b[1;33m(\u001b[0m\u001b[0mCx\u001b[0m\u001b[1;33m,\u001b[0m \u001b[0mCy\u001b[0m\u001b[1;33m,\u001b[0m \u001b[0mr\u001b[0m\u001b[1;33m)\u001b[0m \u001b[1;33m=\u001b[0m \u001b[0mraw_input\u001b[0m\u001b[1;33m(\u001b[0m\u001b[1;33m)\u001b[0m\u001b[1;33m.\u001b[0m\u001b[0msplit\u001b[0m\u001b[1;33m(\u001b[0m\u001b[1;33m)\u001b[0m\u001b[1;33m;\u001b[0m\u001b[1;33m\u001b[0m\u001b[1;33m\u001b[0m\u001b[0m\n\u001b[0m\u001b[0;32m      7\u001b[0m \u001b[0mprint\u001b[0m\u001b[1;33m(\u001b[0m\u001b[0mtype\u001b[0m\u001b[1;33m(\u001b[0m\u001b[0mCx\u001b[0m\u001b[1;33m)\u001b[0m\u001b[1;33m)\u001b[0m\u001b[1;33m\u001b[0m\u001b[1;33m\u001b[0m\u001b[0m\n\u001b[0;32m      8\u001b[0m \u001b[1;33m\u001b[0m\u001b[0m\n",
      "\u001b[1;31mNameError\u001b[0m: name 'raw_input' is not defined"
     ]
    }
   ],
   "source": [
    "## input circle (C) and point(P)\n",
    "\n",
    "# input circle params\n",
    "# Google \" input multiple values python 3\" ---> https://www.geeksforgeeks.org/input-multiple-values-user-one-line-python/\n",
    "print(\"Enter Cx, Cy, r:\");\n",
    "(Cx, Cy, r) = raw_input().split();\n",
    "print(type(Cx))\n",
    "\n",
    "print(Cx, Cy, r); # always cross check using print statements"
   ]
  },
  {
   "cell_type": "code",
   "execution_count": 66,
   "metadata": {
    "colab": {},
    "colab_type": "code",
    "id": "XuGQKR7WezcO",
    "outputId": "49c44912-edf6-4667-cf17-9b5af62edff3"
   },
   "outputs": [
    {
     "ename": "NameError",
     "evalue": "name 'raw_input' is not defined",
     "output_type": "error",
     "traceback": [
      "\u001b[1;31m---------------------------------------------------------------------------\u001b[0m",
      "\u001b[1;31mNameError\u001b[0m                                 Traceback (most recent call last)",
      "\u001b[1;32m<ipython-input-66-6be3c322fdea>\u001b[0m in \u001b[0;36m<module>\u001b[1;34m\u001b[0m\n\u001b[0;32m      1\u001b[0m \u001b[1;31m# Google \" SyntaxError: invalid syntax input Python3 string\" --> https://stackoverflow.com/questions/25174925/syntax-error-for-input\u001b[0m\u001b[1;33m\u001b[0m\u001b[1;33m\u001b[0m\u001b[1;33m\u001b[0m\u001b[0m\n\u001b[1;32m----> 2\u001b[1;33m \u001b[0mCx\u001b[0m\u001b[1;33m,\u001b[0m \u001b[0mCy\u001b[0m\u001b[1;33m,\u001b[0m \u001b[0mr\u001b[0m \u001b[1;33m=\u001b[0m \u001b[0mraw_input\u001b[0m\u001b[1;33m(\u001b[0m\u001b[1;34m\"Enter Cx, Cy, r:\"\u001b[0m\u001b[1;33m)\u001b[0m\u001b[1;33m.\u001b[0m\u001b[0msplit\u001b[0m\u001b[1;33m(\u001b[0m\u001b[1;33m)\u001b[0m\u001b[1;33m;\u001b[0m\u001b[1;33m\u001b[0m\u001b[1;33m\u001b[0m\u001b[0m\n\u001b[0m",
      "\u001b[1;31mNameError\u001b[0m: name 'raw_input' is not defined"
     ]
    }
   ],
   "source": [
    "# Google \" SyntaxError: invalid syntax input Python3 string\" --> https://stackoverflow.com/questions/25174925/syntax-error-for-input\n",
    "Cx, Cy, r = raw_input(\"Enter Cx, Cy, r:\").split();\n"
   ]
  },
  {
   "cell_type": "code",
   "execution_count": null,
   "metadata": {},
   "outputs": [],
   "source": []
  },
  {
   "cell_type": "code",
   "execution_count": null,
   "metadata": {},
   "outputs": [],
   "source": []
  },
  {
   "cell_type": "code",
   "execution_count": 84,
   "metadata": {
    "colab": {},
    "colab_type": "code",
    "id": "uGn4Kd_sezcF",
    "outputId": "1e069b53-dff2-4ef4-e5fd-9ea481fa1e46"
   },
   "outputs": [
    {
     "name": "stdout",
     "output_type": "stream",
     "text": [
      "Enter Cx, Cy, r:0 0 5\n"
     ]
    }
   ],
   "source": [
    "# input circle params\n",
    "## Google \"python input multiple values in single line\" ----> https://www.tutorialspoint.com/how-to-input-multiple-values-from-user-in-one-line-in-python\n",
    "## TRY MULTIPLE APPROACHES and learn from each attempt.\n",
    "\n",
    "Cx, Cy, r = input(\"Enter Cx, Cy, r:\").split();\n"
   ]
  },
  {
   "cell_type": "code",
   "execution_count": 85,
   "metadata": {
    "colab": {},
    "colab_type": "code",
    "id": "vXMefh0rezcb",
    "outputId": "4e55e9ca-7223-46a5-ac99-3bb4c402e366"
   },
   "outputs": [
    {
     "name": "stdout",
     "output_type": "stream",
     "text": [
      "0 0 5\n"
     ]
    }
   ],
   "source": [
    "print(Cx, Cy,r)\n",
    "Cx = float(Cx) ; Cy = float(Cy) ; r = float(r) "
   ]
  },
  {
   "cell_type": "code",
   "execution_count": 100,
   "metadata": {
    "colab": {},
    "colab_type": "code",
    "id": "Xq26gh2Qezcs",
    "outputId": "ccbcb662-f981-4fbe-aef2-b9416e356f2f"
   },
   "outputs": [
    {
     "name": "stdout",
     "output_type": "stream",
     "text": [
      "<class 'float'>\n",
      "Enter Px, Py:3 4\n",
      "3 4\n"
     ]
    }
   ],
   "source": [
    "# Input Px, Py\n",
    "print(type(r))\n",
    "Px, Py = input(\"Enter Px, Py:\").split()\n",
    "print(Px, Py)\n",
    "Px=float(Px) ; Py = float(Py)"
   ]
  },
  {
   "cell_type": "code",
   "execution_count": 101,
   "metadata": {
    "colab": {},
    "colab_type": "code",
    "id": "YjqgT-A_ezc1",
    "outputId": "4e00a063-3719-4fcc-a661-58f9a2f01c8a",
    "scrolled": true
   },
   "outputs": [
    {
     "name": "stdout",
     "output_type": "stream",
     "text": [
      "5.0\n",
      "Point on the Circle\n"
     ]
    }
   ],
   "source": [
    "# Check if P lies in C.\n",
    "d = (( (Cx-Px)**2 + (Cy-Py)**2 ) )**.5\n",
    "print(d);\n",
    "\n",
    "if d<r:\n",
    "    print(\"Point is in Circle\")\n",
    "elif d==r:\n",
    "    print(\"Point on the Circle\")\n",
    "else:\n",
    "    print(\"Point is not in Circle\")"
   ]
  },
  {
   "cell_type": "code",
   "execution_count": 0,
   "metadata": {
    "colab": {},
    "colab_type": "code",
    "id": "h5KbQ5XVezc-",
    "outputId": "4d54913b-a7bf-4f66-8258-14e6a552981f"
   },
   "outputs": [
    {
     "name": "stdout",
     "output_type": "stream",
     "text": [
      "1.41421356237\n",
      "P in C\n"
     ]
    }
   ],
   "source": [
    "# Check if P lies in C.\n",
    "\n",
    "## String to Float. Very important to note that split() returns Strings\n",
    "Cx = float(Cx);\n",
    "Cy = float(Cy);\n",
    "r =float(r);\n",
    "Px= float(Px);\n",
    "Py = float(Py);\n",
    "\n",
    "import math \n",
    "\n",
    "d = math.sqrt( (Cx-Px)**2 + (Cy-Py)**2 )\n",
    "print(d);\n",
    "\n",
    "if d<r:\n",
    "    print(\"P in C\")\n",
    "else:\n",
    "    print(\"P NOT in C\")"
   ]
  },
  {
   "cell_type": "code",
   "execution_count": null,
   "metadata": {},
   "outputs": [],
   "source": []
  },
  {
   "cell_type": "code",
   "execution_count": null,
   "metadata": {},
   "outputs": [],
   "source": []
  },
  {
   "cell_type": "code",
   "execution_count": 106,
   "metadata": {},
   "outputs": [
    {
     "name": "stdout",
     "output_type": "stream",
     "text": [
      "Enter value for Cx Cy R : 0 0 5\n"
     ]
    }
   ],
   "source": [
    "cx,cy,r = map(float,input(\"Enter value for Cx Cy R : \").split())"
   ]
  },
  {
   "cell_type": "code",
   "execution_count": 108,
   "metadata": {},
   "outputs": [
    {
     "name": "stdout",
     "output_type": "stream",
     "text": [
      "5.0\n",
      "Point on the Circle\n"
     ]
    }
   ],
   "source": [
    "import math \n",
    "\n",
    "d = math.sqrt( (Cx-Px)**2 + (Cy-Py)**2 )\n",
    "print(d);\n",
    "\n",
    "if d<r:\n",
    "    print(\"Point is in Circle\")\n",
    "elif d==r:\n",
    "    print(\"Point on the Circle\")\n",
    "else:\n",
    "    print(\"Point is not in Circle\")"
   ]
  },
  {
   "cell_type": "code",
   "execution_count": null,
   "metadata": {},
   "outputs": [],
   "source": []
  },
  {
   "cell_type": "code",
   "execution_count": null,
   "metadata": {},
   "outputs": [],
   "source": []
  },
  {
   "cell_type": "markdown",
   "metadata": {
    "colab_type": "text",
    "id": "mY1eFyyTezdG"
   },
   "source": [
    "#### Exercise: Find if a point is inside or outside a rectangle.\n",
    "\n",
    "HINT: How do you represent a rectangle?\n",
    "\n",
    "********************************************\n",
    "********************************************\n",
    "********************************************"
   ]
  },
  {
   "cell_type": "code",
   "execution_count": null,
   "metadata": {},
   "outputs": [],
   "source": []
  },
  {
   "cell_type": "code",
   "execution_count": 2,
   "metadata": {},
   "outputs": [
    {
     "name": "stdout",
     "output_type": "stream",
     "text": [
      "Enter diagonal Points (Tx,Ty) and (Bx,By): 1 5 5 1\n"
     ]
    }
   ],
   "source": [
    "Tx,Ty,Bx,By = map(float,input(\"Enter diagonal Points (Tx,Ty) and (Bx,By): \").split())"
   ]
  },
  {
   "cell_type": "code",
   "execution_count": 4,
   "metadata": {},
   "outputs": [
    {
     "name": "stdout",
     "output_type": "stream",
     "text": [
      "Enter Point: 2 2\n"
     ]
    }
   ],
   "source": [
    "Px,Py = map(float,input(\"Enter Point: \").split()) "
   ]
  },
  {
   "cell_type": "code",
   "execution_count": 5,
   "metadata": {},
   "outputs": [
    {
     "name": "stdout",
     "output_type": "stream",
     "text": [
      "Inside\n"
     ]
    }
   ],
   "source": [
    "if Tx < Px < Bx  and Ty > Py > By:\n",
    "    print(\"Inside\")\n",
    "else:\n",
    "    print(\"Outside\")"
   ]
  },
  {
   "cell_type": "code",
   "execution_count": null,
   "metadata": {},
   "outputs": [],
   "source": []
  },
  {
   "cell_type": "code",
   "execution_count": null,
   "metadata": {},
   "outputs": [],
   "source": []
  },
  {
   "cell_type": "markdown",
   "metadata": {
    "colab_type": "text",
    "id": "H0FZLvWnezdH"
   },
   "source": [
    "### Problem 3: NumPy ndarray manupualtion operations\n"
   ]
  },
  {
   "cell_type": "code",
   "execution_count": 6,
   "metadata": {
    "colab": {},
    "colab_type": "code",
    "id": "A95uEe9YezdJ",
    "outputId": "b29c2885-6ede-4b7e-f1b7-961852a3f123"
   },
   "outputs": [
    {
     "name": "stdout",
     "output_type": "stream",
     "text": [
      "[[0.5591771  0.06306177 0.36026725 0.59489795]\n",
      " [0.23274691 0.6995814  0.10718379 0.03482812]\n",
      " [0.26737534 0.63604881 0.47299799 0.61558204]\n",
      " [0.83064338 0.44282469 0.17617097 0.47070315]\n",
      " [0.72193478 0.5449578  0.57856609 0.13507701]]\n"
     ]
    }
   ],
   "source": [
    "# 1. Reshape matrices: Very COMMON-ERRORS in Assignments\n",
    "A = np.random.rand(5,4);\n",
    "print(A);\n"
   ]
  },
  {
   "cell_type": "code",
   "execution_count": 0,
   "metadata": {
    "colab": {},
    "colab_type": "code",
    "id": "9EjfzBphezdR",
    "outputId": "b0130faf-b88e-4668-fb3a-da88e7819c18"
   },
   "outputs": [
    {
     "name": "stdout",
     "output_type": "stream",
     "text": [
      "[0.14807421 0.76465119 0.35072274 0.44772859 0.76310969 0.60355746\n",
      " 0.39205106 0.55551216 0.52171983 0.14015325 0.07435462 0.84967035\n",
      " 0.31052941 0.57171621 0.36938534 0.92015166 0.14458459 0.12976042\n",
      " 0.4790811  0.98251111]\n"
     ]
    }
   ],
   "source": [
    "## reshape into a vector row-major-order\n",
    "###https://docs.scipy.org/doc/numpy/reference/generated/numpy.reshape.html \n",
    "### Patiently read the documentation and try alternaive params\n",
    "print( np.reshape(A, 20, 'C'))\n"
   ]
  },
  {
   "cell_type": "code",
   "execution_count": null,
   "metadata": {},
   "outputs": [],
   "source": []
  },
  {
   "cell_type": "code",
   "execution_count": null,
   "metadata": {},
   "outputs": [],
   "source": []
  },
  {
   "cell_type": "code",
   "execution_count": null,
   "metadata": {},
   "outputs": [],
   "source": []
  },
  {
   "cell_type": "code",
   "execution_count": 13,
   "metadata": {},
   "outputs": [],
   "source": [
    "a = np.array([[1, 2, 3],\n",
    "       [4, 5, 6],\n",
    "       [7, 8, 9]])"
   ]
  },
  {
   "cell_type": "code",
   "execution_count": 14,
   "metadata": {},
   "outputs": [
    {
     "data": {
      "text/plain": [
       "array([[1, 2, 3],\n",
       "       [4, 5, 6],\n",
       "       [7, 8, 9]])"
      ]
     },
     "execution_count": 14,
     "metadata": {},
     "output_type": "execute_result"
    }
   ],
   "source": [
    "a"
   ]
  },
  {
   "cell_type": "code",
   "execution_count": 19,
   "metadata": {},
   "outputs": [
    {
     "data": {
      "text/plain": [
       "array([1, 2, 3, 4, 5, 6, 7, 8, 9])"
      ]
     },
     "execution_count": 19,
     "metadata": {},
     "output_type": "execute_result"
    }
   ],
   "source": [
    "#Row Major Order   or   C-like index order\n",
    "np.reshape(a,newshape= -1,order='C')"
   ]
  },
  {
   "cell_type": "code",
   "execution_count": 20,
   "metadata": {},
   "outputs": [
    {
     "data": {
      "text/plain": [
       "array([1, 4, 7, 2, 5, 8, 3, 6, 9])"
      ]
     },
     "execution_count": 20,
     "metadata": {},
     "output_type": "execute_result"
    }
   ],
   "source": [
    "#Coloum Major Order   or   Fortran-like index order\n",
    "np.reshape(a,newshape= -1,order='F')"
   ]
  },
  {
   "cell_type": "code",
   "execution_count": null,
   "metadata": {},
   "outputs": [],
   "source": []
  },
  {
   "cell_type": "code",
   "execution_count": null,
   "metadata": {},
   "outputs": [],
   "source": []
  },
  {
   "cell_type": "code",
   "execution_count": 27,
   "metadata": {},
   "outputs": [],
   "source": [
    "b=np.random.randint(50,size=(5,4))"
   ]
  },
  {
   "cell_type": "code",
   "execution_count": 28,
   "metadata": {},
   "outputs": [
    {
     "data": {
      "text/plain": [
       "array([[16,  2, 20,  1],\n",
       "       [46, 13, 33, 41],\n",
       "       [42,  6, 38, 15],\n",
       "       [13, 25, 23, 28],\n",
       "       [16, 43, 30, 44]])"
      ]
     },
     "execution_count": 28,
     "metadata": {},
     "output_type": "execute_result"
    }
   ],
   "source": [
    "b"
   ]
  },
  {
   "cell_type": "code",
   "execution_count": 30,
   "metadata": {},
   "outputs": [
    {
     "data": {
      "text/plain": [
       "array([[16,  2, 20,  1, 46, 13, 33, 41, 42,  6],\n",
       "       [38, 15, 13, 25, 23, 28, 16, 43, 30, 44]])"
      ]
     },
     "execution_count": 30,
     "metadata": {},
     "output_type": "execute_result"
    }
   ],
   "source": [
    "np.reshape(b,newshape=(2,-1),order='C')"
   ]
  },
  {
   "cell_type": "code",
   "execution_count": 31,
   "metadata": {},
   "outputs": [
    {
     "data": {
      "text/plain": [
       "array([[16, 42, 16, 13, 25, 20, 38, 30, 41, 28],\n",
       "       [46, 13,  2,  6, 43, 33, 23,  1, 15, 44]])"
      ]
     },
     "execution_count": 31,
     "metadata": {},
     "output_type": "execute_result"
    }
   ],
   "source": [
    "np.reshape(b,newshape=(2,-1),order='F')"
   ]
  },
  {
   "cell_type": "code",
   "execution_count": null,
   "metadata": {},
   "outputs": [],
   "source": []
  },
  {
   "cell_type": "code",
   "execution_count": 32,
   "metadata": {},
   "outputs": [
    {
     "data": {
      "text/plain": [
       "array([[16,  2, 20,  1, 46],\n",
       "       [13, 33, 41, 42,  6],\n",
       "       [38, 15, 13, 25, 23],\n",
       "       [28, 16, 43, 30, 44]])"
      ]
     },
     "execution_count": 32,
     "metadata": {},
     "output_type": "execute_result"
    }
   ],
   "source": [
    "np.reshape(b,newshape=(-1,5),order='C')"
   ]
  },
  {
   "cell_type": "code",
   "execution_count": null,
   "metadata": {},
   "outputs": [],
   "source": []
  },
  {
   "cell_type": "code",
   "execution_count": null,
   "metadata": {},
   "outputs": [],
   "source": []
  },
  {
   "cell_type": "code",
   "execution_count": 22,
   "metadata": {
    "colab": {},
    "colab_type": "code",
    "id": "-gXd1d8Tezda",
    "outputId": "d9de4734-d2cf-46c3-bd0e-2bf0e2f3a63e"
   },
   "outputs": [
    {
     "name": "stdout",
     "output_type": "stream",
     "text": [
      "[0.5591771  0.23274691 0.26737534 0.83064338 0.72193478 0.06306177\n",
      " 0.6995814  0.63604881 0.44282469 0.5449578  0.36026725 0.10718379\n",
      " 0.47299799 0.17617097 0.57856609 0.59489795 0.03482812 0.61558204\n",
      " 0.47070315 0.13507701]\n"
     ]
    }
   ],
   "source": [
    "print( np.reshape(A, 20, 'F'))"
   ]
  },
  {
   "cell_type": "code",
   "execution_count": 23,
   "metadata": {
    "colab": {},
    "colab_type": "code",
    "id": "PP7M_utaezdi",
    "outputId": "bedb5ed2-970d-4881-c6a2-879b4bba33ce"
   },
   "outputs": [
    {
     "name": "stdout",
     "output_type": "stream",
     "text": [
      "[[0.5591771  0.06306177 0.36026725 0.59489795 0.23274691]\n",
      " [0.6995814  0.10718379 0.03482812 0.26737534 0.63604881]\n",
      " [0.47299799 0.61558204 0.83064338 0.44282469 0.17617097]\n",
      " [0.47070315 0.72193478 0.5449578  0.57856609 0.13507701]]\n"
     ]
    }
   ],
   "source": [
    "print( np.reshape(A, (4,5), 'C'))"
   ]
  },
  {
   "cell_type": "code",
   "execution_count": 24,
   "metadata": {
    "colab": {},
    "colab_type": "code",
    "id": "gWYKGJAkezds",
    "outputId": "7afacbb3-c02e-4f69-c565-9e524f87896a"
   },
   "outputs": [
    {
     "name": "stdout",
     "output_type": "stream",
     "text": [
      "[[0.5591771  0.06306177 0.36026725 0.59489795 0.23274691]\n",
      " [0.6995814  0.10718379 0.03482812 0.26737534 0.63604881]\n",
      " [0.47299799 0.61558204 0.83064338 0.44282469 0.17617097]\n",
      " [0.47070315 0.72193478 0.5449578  0.57856609 0.13507701]]\n"
     ]
    }
   ],
   "source": [
    "print( np.reshape(A, (4,-1), 'C'))"
   ]
  },
  {
   "cell_type": "code",
   "execution_count": 25,
   "metadata": {
    "colab": {},
    "colab_type": "code",
    "id": "KgGOA8lpezd0",
    "outputId": "aaaf957e-1fae-4926-8179-5093317ba2f2"
   },
   "outputs": [
    {
     "name": "stdout",
     "output_type": "stream",
     "text": [
      "[[0.5591771  0.06306177 0.36026725 0.59489795 0.23274691]\n",
      " [0.6995814  0.10718379 0.03482812 0.26737534 0.63604881]\n",
      " [0.47299799 0.61558204 0.83064338 0.44282469 0.17617097]\n",
      " [0.47070315 0.72193478 0.5449578  0.57856609 0.13507701]]\n"
     ]
    }
   ],
   "source": [
    "print( np.reshape(A, (-1,5), 'C'))"
   ]
  },
  {
   "cell_type": "code",
   "execution_count": 21,
   "metadata": {
    "colab": {},
    "colab_type": "code",
    "id": "s1TBfUnOezd-",
    "outputId": "16f08dd2-dde4-44cc-8fc5-b152ef5408f3"
   },
   "outputs": [
    {
     "ename": "ValueError",
     "evalue": "cannot reshape array of size 20 into shape (4,6)",
     "output_type": "error",
     "traceback": [
      "\u001b[1;31m---------------------------------------------------------------------------\u001b[0m",
      "\u001b[1;31mValueError\u001b[0m                                Traceback (most recent call last)",
      "\u001b[1;32m<ipython-input-21-fcf31998dfe0>\u001b[0m in \u001b[0;36m<module>\u001b[1;34m\u001b[0m\n\u001b[1;32m----> 1\u001b[1;33m \u001b[0mprint\u001b[0m\u001b[1;33m(\u001b[0m \u001b[0mnp\u001b[0m\u001b[1;33m.\u001b[0m\u001b[0mreshape\u001b[0m\u001b[1;33m(\u001b[0m\u001b[0mA\u001b[0m\u001b[1;33m,\u001b[0m \u001b[1;33m(\u001b[0m\u001b[1;36m4\u001b[0m\u001b[1;33m,\u001b[0m\u001b[1;36m6\u001b[0m\u001b[1;33m)\u001b[0m\u001b[1;33m,\u001b[0m \u001b[1;34m'C'\u001b[0m\u001b[1;33m)\u001b[0m\u001b[1;33m)\u001b[0m\u001b[1;33m\u001b[0m\u001b[1;33m\u001b[0m\u001b[0m\n\u001b[0m",
      "\u001b[1;32mc:\\users\\dell\\appdata\\local\\programs\\python\\python37-32\\lib\\site-packages\\numpy\\core\\fromnumeric.py\u001b[0m in \u001b[0;36mreshape\u001b[1;34m(a, newshape, order)\u001b[0m\n\u001b[0;32m    290\u001b[0m            [5, 6]])\n\u001b[0;32m    291\u001b[0m     \"\"\"\n\u001b[1;32m--> 292\u001b[1;33m     \u001b[1;32mreturn\u001b[0m \u001b[0m_wrapfunc\u001b[0m\u001b[1;33m(\u001b[0m\u001b[0ma\u001b[0m\u001b[1;33m,\u001b[0m \u001b[1;34m'reshape'\u001b[0m\u001b[1;33m,\u001b[0m \u001b[0mnewshape\u001b[0m\u001b[1;33m,\u001b[0m \u001b[0morder\u001b[0m\u001b[1;33m=\u001b[0m\u001b[0morder\u001b[0m\u001b[1;33m)\u001b[0m\u001b[1;33m\u001b[0m\u001b[1;33m\u001b[0m\u001b[0m\n\u001b[0m\u001b[0;32m    293\u001b[0m \u001b[1;33m\u001b[0m\u001b[0m\n\u001b[0;32m    294\u001b[0m \u001b[1;33m\u001b[0m\u001b[0m\n",
      "\u001b[1;32mc:\\users\\dell\\appdata\\local\\programs\\python\\python37-32\\lib\\site-packages\\numpy\\core\\fromnumeric.py\u001b[0m in \u001b[0;36m_wrapfunc\u001b[1;34m(obj, method, *args, **kwds)\u001b[0m\n\u001b[0;32m     54\u001b[0m \u001b[1;32mdef\u001b[0m \u001b[0m_wrapfunc\u001b[0m\u001b[1;33m(\u001b[0m\u001b[0mobj\u001b[0m\u001b[1;33m,\u001b[0m \u001b[0mmethod\u001b[0m\u001b[1;33m,\u001b[0m \u001b[1;33m*\u001b[0m\u001b[0margs\u001b[0m\u001b[1;33m,\u001b[0m \u001b[1;33m**\u001b[0m\u001b[0mkwds\u001b[0m\u001b[1;33m)\u001b[0m\u001b[1;33m:\u001b[0m\u001b[1;33m\u001b[0m\u001b[1;33m\u001b[0m\u001b[0m\n\u001b[0;32m     55\u001b[0m     \u001b[1;32mtry\u001b[0m\u001b[1;33m:\u001b[0m\u001b[1;33m\u001b[0m\u001b[1;33m\u001b[0m\u001b[0m\n\u001b[1;32m---> 56\u001b[1;33m         \u001b[1;32mreturn\u001b[0m \u001b[0mgetattr\u001b[0m\u001b[1;33m(\u001b[0m\u001b[0mobj\u001b[0m\u001b[1;33m,\u001b[0m \u001b[0mmethod\u001b[0m\u001b[1;33m)\u001b[0m\u001b[1;33m(\u001b[0m\u001b[1;33m*\u001b[0m\u001b[0margs\u001b[0m\u001b[1;33m,\u001b[0m \u001b[1;33m**\u001b[0m\u001b[0mkwds\u001b[0m\u001b[1;33m)\u001b[0m\u001b[1;33m\u001b[0m\u001b[1;33m\u001b[0m\u001b[0m\n\u001b[0m\u001b[0;32m     57\u001b[0m \u001b[1;33m\u001b[0m\u001b[0m\n\u001b[0;32m     58\u001b[0m     \u001b[1;31m# An AttributeError occurs if the object does not have\u001b[0m\u001b[1;33m\u001b[0m\u001b[1;33m\u001b[0m\u001b[1;33m\u001b[0m\u001b[0m\n",
      "\u001b[1;31mValueError\u001b[0m: cannot reshape array of size 20 into shape (4,6)"
     ]
    }
   ],
   "source": [
    "print( np.reshape(A, (4,6), 'C'))"
   ]
  },
  {
   "cell_type": "markdown",
   "metadata": {
    "colab_type": "text",
    "id": "mo1aYffXezeM"
   },
   "source": [
    "#### Exercise: take a tensor of size 4X5X6 and convert it into a tensor of vector and matrix (10X12)."
   ]
  },
  {
   "cell_type": "code",
   "execution_count": 38,
   "metadata": {
    "colab": {},
    "colab_type": "code",
    "id": "eGrxp8vUezeP",
    "outputId": "89857014-47ce-4186-e604-8875b70c0c19"
   },
   "outputs": [
    {
     "name": "stdout",
     "output_type": "stream",
     "text": [
      "[[0.31388792 0.72640318 0.1961676  0.52129271]\n",
      " [0.31218072 0.37889884 0.56676805 0.62125486]\n",
      " [0.05850966 0.60062785 0.83445378 0.31115639]\n",
      " [0.22213152 0.58969813 0.40583255 0.45673799]\n",
      " [0.00462413 0.77503122 0.8569852  0.84287912]]\n",
      "[[0.29924029 0.24816216]\n",
      " [0.53129367 0.31064457]\n",
      " [0.21662511 0.57143481]\n",
      " [0.80148723 0.28776961]\n",
      " [0.00150689 0.7154128 ]]\n"
     ]
    }
   ],
   "source": [
    "#2. Stacking\n",
    "A = np.random.rand(5,4);\n",
    "print(A);\n",
    "\n",
    "B= np.random.rand(5,2);\n",
    "print(B)\n"
   ]
  },
  {
   "cell_type": "code",
   "execution_count": 39,
   "metadata": {
    "colab": {},
    "colab_type": "code",
    "id": "s5R889Miezed",
    "outputId": "ef32a440-944b-49f0-b2ad-e017154015fa",
    "scrolled": true
   },
   "outputs": [
    {
     "ename": "TypeError",
     "evalue": "hstack() takes 1 positional argument but 2 were given",
     "output_type": "error",
     "traceback": [
      "\u001b[1;31m---------------------------------------------------------------------------\u001b[0m",
      "\u001b[1;31mTypeError\u001b[0m                                 Traceback (most recent call last)",
      "\u001b[1;32m<ipython-input-39-d92124e01823>\u001b[0m in \u001b[0;36m<module>\u001b[1;34m\u001b[0m\n\u001b[0;32m      1\u001b[0m \u001b[1;31m# C = [A B]\u001b[0m\u001b[1;33m\u001b[0m\u001b[1;33m\u001b[0m\u001b[1;33m\u001b[0m\u001b[0m\n\u001b[1;32m----> 2\u001b[1;33m \u001b[0mC\u001b[0m \u001b[1;33m=\u001b[0m \u001b[0mnp\u001b[0m\u001b[1;33m.\u001b[0m\u001b[0mhstack\u001b[0m\u001b[1;33m(\u001b[0m\u001b[0mA\u001b[0m\u001b[1;33m,\u001b[0m \u001b[0mB\u001b[0m\u001b[1;33m)\u001b[0m\u001b[1;33m;\u001b[0m\u001b[1;33m\u001b[0m\u001b[1;33m\u001b[0m\u001b[0m\n\u001b[0m\u001b[0;32m      3\u001b[0m \u001b[0mprint\u001b[0m\u001b[1;33m(\u001b[0m\u001b[0mC\u001b[0m\u001b[1;33m)\u001b[0m\u001b[1;33m\u001b[0m\u001b[1;33m\u001b[0m\u001b[0m\n",
      "\u001b[1;31mTypeError\u001b[0m: hstack() takes 1 positional argument but 2 were given"
     ]
    }
   ],
   "source": [
    "# C = [A B]\n",
    "C = np.hstack(A, B);\n",
    "print(C)"
   ]
  },
  {
   "cell_type": "code",
   "execution_count": 40,
   "metadata": {
    "colab": {},
    "colab_type": "code",
    "id": "j06lugoRezen",
    "outputId": "be239295-8055-47cd-9d9c-0ff98e8a8b6c"
   },
   "outputs": [
    {
     "name": "stdout",
     "output_type": "stream",
     "text": [
      "[[0.31388792 0.72640318 0.1961676  0.52129271 0.29924029 0.24816216]\n",
      " [0.31218072 0.37889884 0.56676805 0.62125486 0.53129367 0.31064457]\n",
      " [0.05850966 0.60062785 0.83445378 0.31115639 0.21662511 0.57143481]\n",
      " [0.22213152 0.58969813 0.40583255 0.45673799 0.80148723 0.28776961]\n",
      " [0.00462413 0.77503122 0.8569852  0.84287912 0.00150689 0.7154128 ]]\n"
     ]
    }
   ],
   "source": [
    "C = np.hstack((A, B)); # read documentation carefully\n",
    "print(C)"
   ]
  },
  {
   "cell_type": "code",
   "execution_count": 0,
   "metadata": {
    "colab": {},
    "colab_type": "code",
    "id": "rpsAY39Bezew",
    "outputId": "5edbb6f3-a882-4e99-b1e5-e9e1533024d9"
   },
   "outputs": [
    {
     "name": "stdout",
     "output_type": "stream",
     "text": [
      "[[0.07442156 0.90842643 0.26791901 0.52103986]\n",
      " [0.31627629 0.96720084 0.92801681 0.29094456]\n",
      " [0.92762484 0.2036012  0.62790382 0.21155578]\n",
      " [0.03114235 0.02227744 0.45126548 0.07824812]\n",
      " [0.31206675 0.12787428 0.78704942 0.95472092]]\n",
      "[[0.74204087 0.3375716  0.53499921 0.64780102]\n",
      " [0.95762786 0.35441587 0.99187725 0.38097213]\n",
      " [0.34547302 0.48853482 0.85121261 0.81847693]\n",
      " [0.1783305  0.40696326 0.71089858 0.49241374]]\n"
     ]
    },
    {
     "ename": "ValueError",
     "evalue": "all the input array dimensions except for the concatenation axis must match exactly",
     "output_type": "error",
     "traceback": [
      "\u001b[0;31m---------------------------------------------------------------------------\u001b[0m",
      "\u001b[0;31mValueError\u001b[0m                                Traceback (most recent call last)",
      "\u001b[0;32m<ipython-input-84-daed3de7c0c2>\u001b[0m in \u001b[0;36m<module>\u001b[0;34m()\u001b[0m\n\u001b[1;32m      5\u001b[0m \u001b[0;32mprint\u001b[0m\u001b[0;34m(\u001b[0m\u001b[0mB\u001b[0m\u001b[0;34m)\u001b[0m\u001b[0;34m\u001b[0m\u001b[0m\n\u001b[1;32m      6\u001b[0m \u001b[0;34m\u001b[0m\u001b[0m\n\u001b[0;32m----> 7\u001b[0;31m \u001b[0mC\u001b[0m \u001b[0;34m=\u001b[0m \u001b[0mnp\u001b[0m\u001b[0;34m.\u001b[0m\u001b[0mhstack\u001b[0m\u001b[0;34m(\u001b[0m\u001b[0;34m(\u001b[0m\u001b[0mA\u001b[0m\u001b[0;34m,\u001b[0m \u001b[0mB\u001b[0m\u001b[0;34m)\u001b[0m\u001b[0;34m)\u001b[0m\u001b[0;34m;\u001b[0m\u001b[0;34m\u001b[0m\u001b[0m\n\u001b[0m\u001b[1;32m      8\u001b[0m \u001b[0;32mprint\u001b[0m\u001b[0;34m(\u001b[0m\u001b[0mC\u001b[0m\u001b[0;34m)\u001b[0m\u001b[0;34m\u001b[0m\u001b[0m\n",
      "\u001b[0;32m/usr/local/lib/python2.7/site-packages/numpy/core/shape_base.pyc\u001b[0m in \u001b[0;36mhstack\u001b[0;34m(tup)\u001b[0m\n\u001b[1;32m    338\u001b[0m         \u001b[0;32mreturn\u001b[0m \u001b[0m_nx\u001b[0m\u001b[0;34m.\u001b[0m\u001b[0mconcatenate\u001b[0m\u001b[0;34m(\u001b[0m\u001b[0marrs\u001b[0m\u001b[0;34m,\u001b[0m \u001b[0;36m0\u001b[0m\u001b[0;34m)\u001b[0m\u001b[0;34m\u001b[0m\u001b[0m\n\u001b[1;32m    339\u001b[0m     \u001b[0;32melse\u001b[0m\u001b[0;34m:\u001b[0m\u001b[0;34m\u001b[0m\u001b[0m\n\u001b[0;32m--> 340\u001b[0;31m         \u001b[0;32mreturn\u001b[0m \u001b[0m_nx\u001b[0m\u001b[0;34m.\u001b[0m\u001b[0mconcatenate\u001b[0m\u001b[0;34m(\u001b[0m\u001b[0marrs\u001b[0m\u001b[0;34m,\u001b[0m \u001b[0;36m1\u001b[0m\u001b[0;34m)\u001b[0m\u001b[0;34m\u001b[0m\u001b[0m\n\u001b[0m\u001b[1;32m    341\u001b[0m \u001b[0;34m\u001b[0m\u001b[0m\n\u001b[1;32m    342\u001b[0m \u001b[0;34m\u001b[0m\u001b[0m\n",
      "\u001b[0;31mValueError\u001b[0m: all the input array dimensions except for the concatenation axis must match exactly"
     ]
    }
   ],
   "source": [
    "A = np.random.rand(5,4);\n",
    "print(A);\n",
    "\n",
    "B= np.random.rand(4,4);\n",
    "print(B)\n",
    "\n",
    "C = np.hstack((A, B));\n",
    "print(C)"
   ]
  },
  {
   "cell_type": "code",
   "execution_count": 0,
   "metadata": {
    "colab": {},
    "colab_type": "code",
    "id": "sYdCUXhbeze9",
    "outputId": "679656c9-4514-4ed3-81a5-8920b93ca882"
   },
   "outputs": [
    {
     "name": "stdout",
     "output_type": "stream",
     "text": [
      "[[0.47572417 0.88468831 0.81030914 0.54286827]\n",
      " [0.088576   0.6447609  0.65370572 0.31849572]\n",
      " [0.01805613 0.46166837 0.4602457  0.35788657]\n",
      " [0.37245741 0.49461568 0.31431636 0.3799997 ]\n",
      " [0.96098487 0.1608441  0.50098802 0.01518362]]\n",
      "[[0.43308702 0.04543804 0.91316269 0.86101818]\n",
      " [0.86514807 0.63395249 0.40368305 0.31388662]\n",
      " [0.82764524 0.15498427 0.70440415 0.904619  ]\n",
      " [0.13671617 0.81722549 0.95948317 0.70652946]]\n",
      "[[0.47572417 0.88468831 0.81030914 0.54286827]\n",
      " [0.088576   0.6447609  0.65370572 0.31849572]\n",
      " [0.01805613 0.46166837 0.4602457  0.35788657]\n",
      " [0.37245741 0.49461568 0.31431636 0.3799997 ]\n",
      " [0.96098487 0.1608441  0.50098802 0.01518362]\n",
      " [0.43308702 0.04543804 0.91316269 0.86101818]\n",
      " [0.86514807 0.63395249 0.40368305 0.31388662]\n",
      " [0.82764524 0.15498427 0.70440415 0.904619  ]\n",
      " [0.13671617 0.81722549 0.95948317 0.70652946]]\n"
     ]
    }
   ],
   "source": [
    "A = np.random.rand(5,4);\n",
    "print(A);\n",
    "\n",
    "B= np.random.rand(4,4);\n",
    "print(B)\n",
    "\n",
    "C = np.vstack((A, B)); #Vertical stacking\n",
    "print(C)"
   ]
  },
  {
   "cell_type": "code",
   "execution_count": 0,
   "metadata": {
    "colab": {},
    "colab_type": "code",
    "id": "gUur_I24ezfE",
    "outputId": "0a9a5096-7c27-4c6f-c763-99611ff271cb"
   },
   "outputs": [
    {
     "name": "stdout",
     "output_type": "stream",
     "text": [
      "(5, 4, 3)\n",
      "(5, 3, 3)\n",
      "(5, 7, 3)\n"
     ]
    }
   ],
   "source": [
    "# 3D tensors\n",
    "A = np.random.rand(5,4,3); # (height, width, colors) in images is a good way to think of this\n",
    "print(A.shape);\n",
    "\n",
    "B= np.random.rand(5,3,3);\n",
    "print(B.shape)\n",
    "\n",
    "C = np.hstack((A, B));\n",
    "print(C.shape)"
   ]
  },
  {
   "cell_type": "code",
   "execution_count": 0,
   "metadata": {
    "colab": {},
    "colab_type": "code",
    "id": "Hw6jnhP-ezfS",
    "outputId": "a0d0af20-dd18-48f4-8f9a-7e81d572fdcb"
   },
   "outputs": [
    {
     "name": "stdout",
     "output_type": "stream",
     "text": [
      "(5, 4, 3)\n",
      "(4, 3, 3)\n"
     ]
    },
    {
     "ename": "ValueError",
     "evalue": "all the input array dimensions except for the concatenation axis must match exactly",
     "output_type": "error",
     "traceback": [
      "\u001b[0;31m---------------------------------------------------------------------------\u001b[0m",
      "\u001b[0;31mValueError\u001b[0m                                Traceback (most recent call last)",
      "\u001b[0;32m<ipython-input-89-219e77c582c0>\u001b[0m in \u001b[0;36m<module>\u001b[0;34m()\u001b[0m\n\u001b[1;32m      6\u001b[0m \u001b[0;32mprint\u001b[0m\u001b[0;34m(\u001b[0m\u001b[0mB\u001b[0m\u001b[0;34m.\u001b[0m\u001b[0mshape\u001b[0m\u001b[0;34m)\u001b[0m\u001b[0;34m\u001b[0m\u001b[0m\n\u001b[1;32m      7\u001b[0m \u001b[0;34m\u001b[0m\u001b[0m\n\u001b[0;32m----> 8\u001b[0;31m \u001b[0mC\u001b[0m \u001b[0;34m=\u001b[0m \u001b[0mnp\u001b[0m\u001b[0;34m.\u001b[0m\u001b[0mhstack\u001b[0m\u001b[0;34m(\u001b[0m\u001b[0;34m(\u001b[0m\u001b[0mA\u001b[0m\u001b[0;34m,\u001b[0m \u001b[0mB\u001b[0m\u001b[0;34m)\u001b[0m\u001b[0;34m)\u001b[0m\u001b[0;34m;\u001b[0m\u001b[0;34m\u001b[0m\u001b[0m\n\u001b[0m\u001b[1;32m      9\u001b[0m \u001b[0;32mprint\u001b[0m\u001b[0;34m(\u001b[0m\u001b[0mC\u001b[0m\u001b[0;34m.\u001b[0m\u001b[0mshape\u001b[0m\u001b[0;34m)\u001b[0m\u001b[0;34m\u001b[0m\u001b[0m\n",
      "\u001b[0;32m/usr/local/lib/python2.7/site-packages/numpy/core/shape_base.pyc\u001b[0m in \u001b[0;36mhstack\u001b[0;34m(tup)\u001b[0m\n\u001b[1;32m    338\u001b[0m         \u001b[0;32mreturn\u001b[0m \u001b[0m_nx\u001b[0m\u001b[0;34m.\u001b[0m\u001b[0mconcatenate\u001b[0m\u001b[0;34m(\u001b[0m\u001b[0marrs\u001b[0m\u001b[0;34m,\u001b[0m \u001b[0;36m0\u001b[0m\u001b[0;34m)\u001b[0m\u001b[0;34m\u001b[0m\u001b[0m\n\u001b[1;32m    339\u001b[0m     \u001b[0;32melse\u001b[0m\u001b[0;34m:\u001b[0m\u001b[0;34m\u001b[0m\u001b[0m\n\u001b[0;32m--> 340\u001b[0;31m         \u001b[0;32mreturn\u001b[0m \u001b[0m_nx\u001b[0m\u001b[0;34m.\u001b[0m\u001b[0mconcatenate\u001b[0m\u001b[0;34m(\u001b[0m\u001b[0marrs\u001b[0m\u001b[0;34m,\u001b[0m \u001b[0;36m1\u001b[0m\u001b[0;34m)\u001b[0m\u001b[0;34m\u001b[0m\u001b[0m\n\u001b[0m\u001b[1;32m    341\u001b[0m \u001b[0;34m\u001b[0m\u001b[0m\n\u001b[1;32m    342\u001b[0m \u001b[0;34m\u001b[0m\u001b[0m\n",
      "\u001b[0;31mValueError\u001b[0m: all the input array dimensions except for the concatenation axis must match exactly"
     ]
    }
   ],
   "source": [
    "# 3D tensors\n",
    "A = np.random.rand(5,4,3);\n",
    "print(A.shape);\n",
    "\n",
    "B= np.random.rand(4,3,3);\n",
    "print(B.shape)\n",
    "\n",
    "C = np.hstack((A, B));\n",
    "print(C.shape)"
   ]
  },
  {
   "cell_type": "code",
   "execution_count": 0,
   "metadata": {
    "colab": {},
    "colab_type": "code",
    "id": "NMAEDmN4ezfb",
    "outputId": "8c35b0ea-df90-4062-ccfb-07fafaa81c91"
   },
   "outputs": [
    {
     "name": "stdout",
     "output_type": "stream",
     "text": [
      "(5, 4, 3)\n",
      "(5, 4, 2)\n"
     ]
    },
    {
     "ename": "ValueError",
     "evalue": "all the input array dimensions except for the concatenation axis must match exactly",
     "output_type": "error",
     "traceback": [
      "\u001b[0;31m---------------------------------------------------------------------------\u001b[0m",
      "\u001b[0;31mValueError\u001b[0m                                Traceback (most recent call last)",
      "\u001b[0;32m<ipython-input-92-4695741ca48f>\u001b[0m in \u001b[0;36m<module>\u001b[0;34m()\u001b[0m\n\u001b[1;32m      6\u001b[0m \u001b[0;32mprint\u001b[0m\u001b[0;34m(\u001b[0m\u001b[0mB\u001b[0m\u001b[0;34m.\u001b[0m\u001b[0mshape\u001b[0m\u001b[0;34m)\u001b[0m\u001b[0;34m\u001b[0m\u001b[0m\n\u001b[1;32m      7\u001b[0m \u001b[0;34m\u001b[0m\u001b[0m\n\u001b[0;32m----> 8\u001b[0;31m \u001b[0mC\u001b[0m \u001b[0;34m=\u001b[0m \u001b[0mnp\u001b[0m\u001b[0;34m.\u001b[0m\u001b[0mhstack\u001b[0m\u001b[0;34m(\u001b[0m\u001b[0;34m(\u001b[0m\u001b[0mA\u001b[0m\u001b[0;34m,\u001b[0m \u001b[0mB\u001b[0m\u001b[0;34m)\u001b[0m\u001b[0;34m)\u001b[0m\u001b[0;34m;\u001b[0m\u001b[0;34m\u001b[0m\u001b[0m\n\u001b[0m\u001b[1;32m      9\u001b[0m \u001b[0;32mprint\u001b[0m\u001b[0;34m(\u001b[0m\u001b[0mC\u001b[0m\u001b[0;34m.\u001b[0m\u001b[0mshape\u001b[0m\u001b[0;34m)\u001b[0m\u001b[0;34m\u001b[0m\u001b[0m\n",
      "\u001b[0;32m/usr/local/lib/python2.7/site-packages/numpy/core/shape_base.pyc\u001b[0m in \u001b[0;36mhstack\u001b[0;34m(tup)\u001b[0m\n\u001b[1;32m    338\u001b[0m         \u001b[0;32mreturn\u001b[0m \u001b[0m_nx\u001b[0m\u001b[0;34m.\u001b[0m\u001b[0mconcatenate\u001b[0m\u001b[0;34m(\u001b[0m\u001b[0marrs\u001b[0m\u001b[0;34m,\u001b[0m \u001b[0;36m0\u001b[0m\u001b[0;34m)\u001b[0m\u001b[0;34m\u001b[0m\u001b[0m\n\u001b[1;32m    339\u001b[0m     \u001b[0;32melse\u001b[0m\u001b[0;34m:\u001b[0m\u001b[0;34m\u001b[0m\u001b[0m\n\u001b[0;32m--> 340\u001b[0;31m         \u001b[0;32mreturn\u001b[0m \u001b[0m_nx\u001b[0m\u001b[0;34m.\u001b[0m\u001b[0mconcatenate\u001b[0m\u001b[0;34m(\u001b[0m\u001b[0marrs\u001b[0m\u001b[0;34m,\u001b[0m \u001b[0;36m1\u001b[0m\u001b[0;34m)\u001b[0m\u001b[0;34m\u001b[0m\u001b[0m\n\u001b[0m\u001b[1;32m    341\u001b[0m \u001b[0;34m\u001b[0m\u001b[0m\n\u001b[1;32m    342\u001b[0m \u001b[0;34m\u001b[0m\u001b[0m\n",
      "\u001b[0;31mValueError\u001b[0m: all the input array dimensions except for the concatenation axis must match exactly"
     ]
    }
   ],
   "source": [
    "# 3D tensors\n",
    "A = np.random.rand(5,4,3);\n",
    "print(A.shape);\n",
    "\n",
    "B= np.random.rand(5,4,2);\n",
    "print(B.shape)\n",
    "\n",
    "C = np.hstack((A, B));\n",
    "print(C.shape)"
   ]
  },
  {
   "cell_type": "code",
   "execution_count": 0,
   "metadata": {
    "colab": {},
    "colab_type": "code",
    "id": "vAgaqqYHezfk",
    "outputId": "902cdedb-7181-4543-d249-7595621f007b"
   },
   "outputs": [
    {
     "name": "stdout",
     "output_type": "stream",
     "text": [
      "(5, 4, 3)\n",
      "(2, 4, 3)\n",
      "(7, 4, 3)\n"
     ]
    }
   ],
   "source": [
    "# 3D tensors vstack\n",
    "A = np.random.rand(5,4,3); # (height, width, colors) in images\n",
    "print(A.shape);\n",
    "\n",
    "B= np.random.rand(2,4,3);\n",
    "print(B.shape)\n",
    "\n",
    "C = np.vstack((A, B));\n",
    "print(C.shape)"
   ]
  },
  {
   "cell_type": "markdown",
   "metadata": {
    "colab_type": "text",
    "id": "sVB2TY2aezfs"
   },
   "source": [
    "#### Exercise: Achieve the above tranaomfrs using numpy.concatenate [https://numpy.org/doc/1.18/reference/generated/numpy.concatenate.html#numpy.concatenate]\n",
    "***********\n",
    "***********\n",
    "***********\n",
    "***********\n"
   ]
  },
  {
   "cell_type": "markdown",
   "metadata": {
    "colab_type": "text",
    "id": "mXTba-Mdezft"
   },
   "source": [
    "### Problem-4: Find peaks/max in an list\n",
    "- problem definition\n"
   ]
  },
  {
   "cell_type": "code",
   "execution_count": 0,
   "metadata": {
    "colab": {},
    "colab_type": "code",
    "id": "btEzQMD3ezfv",
    "outputId": "ec106d0e-5bd1-4cef-ed9a-573908d8b90c"
   },
   "outputs": [
    {
     "name": "stdout",
     "output_type": "stream",
     "text": [
      "[1, 3, 4, 5, 7, 6, 4, 5, 10, 1]\n"
     ]
    }
   ],
   "source": [
    "\n",
    "A = [1,3,4,5,7,6,4,5,10,1];\n",
    "print(A)"
   ]
  },
  {
   "cell_type": "code",
   "execution_count": 0,
   "metadata": {
    "colab": {},
    "colab_type": "code",
    "id": "lEgYn9iLezf7",
    "outputId": "615d3c06-10d3-4b5b-94df-fc3d714bb9f7"
   },
   "outputs": [
    {
     "ename": "AttributeError",
     "evalue": "'list' object has no attribute 'size'",
     "output_type": "error",
     "traceback": [
      "\u001b[0;31m---------------------------------------------------------------------------\u001b[0m",
      "\u001b[0;31mAttributeError\u001b[0m                            Traceback (most recent call last)",
      "\u001b[0;32m<ipython-input-102-0fae074d0510>\u001b[0m in \u001b[0;36m<module>\u001b[0;34m()\u001b[0m\n\u001b[1;32m      2\u001b[0m \u001b[0;31m# Peak: A[i-1] <= A[i] >= A[i+1]\u001b[0m\u001b[0;34m\u001b[0m\u001b[0;34m\u001b[0m\u001b[0m\n\u001b[1;32m      3\u001b[0m \u001b[0;34m\u001b[0m\u001b[0m\n\u001b[0;32m----> 4\u001b[0;31m \u001b[0;32mfor\u001b[0m \u001b[0mi\u001b[0m \u001b[0;32min\u001b[0m \u001b[0mrange\u001b[0m\u001b[0;34m(\u001b[0m\u001b[0;36m1\u001b[0m\u001b[0;34m,\u001b[0m \u001b[0mA\u001b[0m\u001b[0;34m.\u001b[0m\u001b[0msize\u001b[0m \u001b[0;34m-\u001b[0m \u001b[0;36m1\u001b[0m\u001b[0;34m)\u001b[0m\u001b[0;34m:\u001b[0m \u001b[0;31m# 1 and -1 are important\u001b[0m\u001b[0;34m\u001b[0m\u001b[0m\n\u001b[0m\u001b[1;32m      5\u001b[0m     \u001b[0;32mif\u001b[0m \u001b[0;34m(\u001b[0m\u001b[0mA\u001b[0m\u001b[0;34m[\u001b[0m\u001b[0mi\u001b[0m\u001b[0;34m]\u001b[0m \u001b[0;34m>=\u001b[0m \u001b[0mA\u001b[0m\u001b[0;34m[\u001b[0m\u001b[0mi\u001b[0m\u001b[0;34m-\u001b[0m\u001b[0;36m1\u001b[0m\u001b[0;34m]\u001b[0m\u001b[0;34m)\u001b[0m \u001b[0;32mand\u001b[0m \u001b[0;34m(\u001b[0m\u001b[0mA\u001b[0m\u001b[0;34m[\u001b[0m\u001b[0mi\u001b[0m\u001b[0;34m]\u001b[0m \u001b[0;34m>=\u001b[0m \u001b[0mA\u001b[0m\u001b[0;34m[\u001b[0m\u001b[0mi\u001b[0m\u001b[0;34m+\u001b[0m\u001b[0;36m1\u001b[0m\u001b[0;34m]\u001b[0m\u001b[0;34m)\u001b[0m\u001b[0;34m:\u001b[0m\u001b[0;34m\u001b[0m\u001b[0m\n\u001b[1;32m      6\u001b[0m         \u001b[0;32mprint\u001b[0m \u001b[0mA\u001b[0m\u001b[0;34m[\u001b[0m\u001b[0mi\u001b[0m\u001b[0;34m]\u001b[0m\u001b[0;34m;\u001b[0m\u001b[0;34m\u001b[0m\u001b[0m\n",
      "\u001b[0;31mAttributeError\u001b[0m: 'list' object has no attribute 'size'"
     ]
    }
   ],
   "source": [
    "# Peaks: 7,10\n",
    "# Peak: A[i-1] <= A[i] >= A[i+1]\n",
    "\n",
    "for i in range(1, A.size - 1): # 1 and -1 are important\n",
    "    if (A[i] >= A[i-1]) and (A[i] >= A[i+1]):\n",
    "        print(A[i]);"
   ]
  },
  {
   "cell_type": "code",
   "execution_count": 0,
   "metadata": {
    "colab": {},
    "colab_type": "code",
    "id": "VR6jLIZLezgE",
    "outputId": "c21965ce-0a0b-4e13-a6d1-7138bdb0d45c"
   },
   "outputs": [
    {
     "name": "stdout",
     "output_type": "stream",
     "text": [
      "10\n"
     ]
    }
   ],
   "source": [
    "print(len(A));"
   ]
  },
  {
   "cell_type": "code",
   "execution_count": 0,
   "metadata": {
    "colab": {},
    "colab_type": "code",
    "id": "pWM8nbPwezgU",
    "outputId": "d5215d6a-664c-430a-dd20-bad2a342db30"
   },
   "outputs": [
    {
     "name": "stdout",
     "output_type": "stream",
     "text": [
      "7\n",
      "10\n"
     ]
    }
   ],
   "source": [
    "for i in range(1, len(A) - 1): # 1 and -1 are important\n",
    "    if (A[i] >= A[i-1]) and (A[i] >= A[i+1]):\n",
    "        print(A[i]);"
   ]
  },
  {
   "cell_type": "code",
   "execution_count": 0,
   "metadata": {
    "colab": {},
    "colab_type": "code",
    "id": "ujhboRzuezge"
   },
   "outputs": [],
   "source": [
    "# There is a bug in the above solution. Find it...\n"
   ]
  },
  {
   "cell_type": "code",
   "execution_count": 0,
   "metadata": {
    "colab": {},
    "colab_type": "code",
    "id": "oSUUO7tIezgn",
    "outputId": "45dfd6c6-f18e-4b3b-a08f-7335876e759e"
   },
   "outputs": [
    {
     "name": "stdout",
     "output_type": "stream",
     "text": [
      "7\n"
     ]
    }
   ],
   "source": [
    "A = [11,3,4,5,7,6,4,5,10,15];\n",
    "\n",
    "for i in range(1, len(A) - 1): # 1 and -1 are important\n",
    "    if (A[i] >= A[i-1]) and (A[i] >= A[i+1]):\n",
    "        print(A[i]);"
   ]
  },
  {
   "cell_type": "code",
   "execution_count": 0,
   "metadata": {
    "colab": {},
    "colab_type": "code",
    "id": "wueSw0CCezgu"
   },
   "outputs": [],
   "source": [
    "# what about 11 and 15?\n",
    "\n",
    "# boundary case\n",
    "if A[0] >= A[1]:\n",
    "    print(A[0])\n",
    "    \n",
    "for i in range(1, len(A) - 1): # 1 and -1 are important\n",
    "    if (A[i] >= A[i-1]) and (A[i] >= A[i+1]):\n",
    "        print(A[i]);\n",
    "\n",
    "# boundary case\n",
    "if A[len(A)-1] >= A[len(A)-2]:\n",
    "    print(A[len(A)-1])\n"
   ]
  },
  {
   "cell_type": "code",
   "execution_count": 0,
   "metadata": {
    "colab": {},
    "colab_type": "code",
    "id": "6KptqeOyezg8"
   },
   "outputs": [],
   "source": [
    "# LESSON: Donot forget boundary cases\n",
    "\n",
    "#Question: Time Complexity = ?"
   ]
  },
  {
   "cell_type": "markdown",
   "metadata": {
    "colab_type": "text",
    "id": "qBb5DIbMezhG"
   },
   "source": [
    "#### Exercise: \n",
    "1. Find peaks which are max values in a window of size 2 on both sides.\n",
    "2. Use scipy.signal.find_peaks [https://docs.scipy.org/doc/scipy/reference/generated/scipy.signal.find_peaks.html]\n",
    "\n",
    "Additioanl reading: More efficient algos @ http://courses.csail.mit.edu/6.006/spring11/lectures/lec02.pdf"
   ]
  },
  {
   "cell_type": "markdown",
   "metadata": {
    "colab_type": "text",
    "id": "BhsEYv5aezhI"
   },
   "source": [
    "### Problem 5: Permutations of a list\n",
    "- Problem definition: lst = [1,2,3]"
   ]
  },
  {
   "cell_type": "code",
   "execution_count": 0,
   "metadata": {
    "colab": {},
    "colab_type": "code",
    "id": "JikpA4B-ezhJ",
    "outputId": "e93ede61-7c7a-441d-d3b0-fa1326d9b20c"
   },
   "outputs": [
    {
     "name": "stdout",
     "output_type": "stream",
     "text": [
      "(1, 2, 3)\n",
      "(1, 3, 2)\n",
      "(2, 1, 3)\n",
      "(2, 3, 1)\n",
      "(3, 1, 2)\n",
      "(3, 2, 1)\n"
     ]
    }
   ],
   "source": [
    "# Using libraries\n",
    "from itertools import permutations \n",
    "  \n",
    "p = permutations([1, 2, 3]) # refer: https://docs.python.org/3/library/itertools.html#itertools.permutations\n",
    "\n",
    "# what is an iterable in Python [https://www.pythonlikeyoumeanit.com/Module2_EssentialsOfPython/Iterables.html]\n",
    "\n",
    "# print the permutations\n",
    "for i in list(p): \n",
    "    print i "
   ]
  },
  {
   "cell_type": "code",
   "execution_count": 0,
   "metadata": {
    "colab": {},
    "colab_type": "code",
    "id": "rcY-_Q5qezhT"
   },
   "outputs": [],
   "source": [
    "# No fun!\n",
    "# Write your own code. Any suggestions?\n",
    "# Break the problem into smaller sub-problems"
   ]
  },
  {
   "cell_type": "code",
   "execution_count": 0,
   "metadata": {
    "colab": {},
    "colab_type": "code",
    "id": "4nh-bLI7ezhi",
    "outputId": "b015ba6a-1905-49ea-a89c-0144ff82eb10"
   },
   "outputs": [
    {
     "data": {
      "text/plain": [
       "[3, 2, 1]"
      ]
     },
     "execution_count": 122,
     "metadata": {
      "tags": []
     },
     "output_type": "execute_result"
    }
   ],
   "source": [
    "[1,2,3]\n",
    "[1,3,2]\n",
    "[2,1,3]\n",
    "[2,3,1]\n",
    "[3,1,2]\n",
    "[3,2,1]"
   ]
  },
  {
   "cell_type": "code",
   "execution_count": 0,
   "metadata": {
    "colab": {},
    "colab_type": "code",
    "id": "KQk6cJbjezht",
    "outputId": "6cc4fa7d-3d61-4872-ca91-f3dcdda29fbc"
   },
   "outputs": [
    {
     "name": "stdout",
     "output_type": "stream",
     "text": [
      "[[1, 2, 3], [1, 3, 2], [2, 1, 3], [2, 3, 1], [3, 1, 2], [3, 2, 1]]\n"
     ]
    }
   ],
   "source": [
    "# source: https://stackoverflow.com/questions/13109274/python-recursion-permutations\n",
    "\n",
    "def permutation(s):\n",
    "    if len(s) == 1:\n",
    "        return [s]\n",
    "\n",
    "    perm_list = [] # resulting list\n",
    "    for a in s:\n",
    "        remaining_elements = [x for x in s if x != a]\n",
    "        z = permutation(remaining_elements) # permutations of sub-list\n",
    "\n",
    "        for t in z:\n",
    "            perm_list.append([a] + t)\n",
    "\n",
    "    return perm_list\n",
    "\n",
    "s = [1,2,3];\n",
    "p = permutation(s);\n",
    "print(p)"
   ]
  },
  {
   "cell_type": "markdown",
   "metadata": {
    "colab_type": "text",
    "id": "L2esyC3Cezh8"
   },
   "source": [
    "#### Exercise: [Combinations] All possible ways to pick 3 elements out of 5 elements\n",
    "\n",
    "- HINT: Use recursion.\n",
    "- Google \"combinations in Python\""
   ]
  },
  {
   "cell_type": "markdown",
   "metadata": {
    "colab_type": "text",
    "id": "6WOYtip8ezh_"
   },
   "source": [
    "### Practice, practice and practice..\n",
    "\n",
    "- Optional  Assignments at AAIC: https://go.aws/2JrmV4A [Functions] , https://drive.google.com/file/d/1VB3wJSt_Mq0HLP9uaqgsZBR4BLMFnkmY/view [Pandas]\n",
    "\n",
    "- Basic Python: https://www.geeksforgeeks.org/python-programming-examples/\n",
    "- NumPy: https://www.w3resource.com/python-exercises/numpy/index.php\n"
   ]
  },
  {
   "cell_type": "code",
   "execution_count": 42,
   "metadata": {},
   "outputs": [],
   "source": [
    "a=5\n",
    "b=10"
   ]
  },
  {
   "cell_type": "code",
   "execution_count": 46,
   "metadata": {},
   "outputs": [
    {
     "name": "stdout",
     "output_type": "stream",
     "text": [
      "01234"
     ]
    }
   ],
   "source": [
    "for i in range(5):\n",
    "    print(i,end=\"\")"
   ]
  },
  {
   "cell_type": "code",
   "execution_count": null,
   "metadata": {},
   "outputs": [],
   "source": []
  },
  {
   "cell_type": "code",
   "execution_count": null,
   "metadata": {},
   "outputs": [],
   "source": []
  },
  {
   "cell_type": "code",
   "execution_count": null,
   "metadata": {},
   "outputs": [],
   "source": []
  },
  {
   "cell_type": "code",
   "execution_count": null,
   "metadata": {},
   "outputs": [],
   "source": []
  },
  {
   "cell_type": "code",
   "execution_count": null,
   "metadata": {},
   "outputs": [],
   "source": []
  }
 ],
 "metadata": {
  "colab": {
   "collapsed_sections": [
    "KPjY8bAeezbu",
    "N4KaeZOAezbx",
    "mY1eFyyTezdG",
    "H0FZLvWnezdH",
    "mo1aYffXezeM",
    "sVB2TY2aezfs",
    "mXTba-Mdezft",
    "qBb5DIbMezhG",
    "BhsEYv5aezhI",
    "L2esyC3Cezh8",
    "6WOYtip8ezh_"
   ],
   "name": "Day 1 LIVE-1_Python .ipynb",
   "provenance": []
  },
  "kernelspec": {
   "display_name": "Python 3",
   "language": "python",
   "name": "python3"
  },
  "language_info": {
   "codemirror_mode": {
    "name": "ipython",
    "version": 3
   },
   "file_extension": ".py",
   "mimetype": "text/x-python",
   "name": "python",
   "nbconvert_exporter": "python",
   "pygments_lexer": "ipython3",
   "version": "3.7.3"
  }
 },
 "nbformat": 4,
 "nbformat_minor": 1
}
